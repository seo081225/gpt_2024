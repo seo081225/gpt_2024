{
 "cells": [
  {
   "cell_type": "code",
   "execution_count": 2,
   "metadata": {},
   "outputs": [
    {
     "name": "stdout",
     "output_type": "stream",
     "text": [
      "AI: 감독: 피트 닥터, 론니 델 카르멘\n",
      "주요 출연진: 에이미 포엘러, 필리스 스미스, 민디 캘링\n",
      "예산: 약 1억 75백만 달러\n",
      "흥행 수익: 약 8억 56백만 달러\n",
      "장르: 애니메이션, 코미디, 가족\n",
      "줄거리: 소녀 라일리의 머릿속에 있는 감정들이 모험을 통해 성장하고 변화하는 과정을 그린 애니메이션 영화입니다. 감정들을 통해 우리가 어떻게 감정을 다루고 이해하는지를 다룹니다."
     ]
    },
    {
     "data": {
      "text/plain": [
       "AIMessageChunk(content='AI: 감독: 피트 닥터, 론니 델 카르멘\\n주요 출연진: 에이미 포엘러, 필리스 스미스, 민디 캘링\\n예산: 약 1억 75백만 달러\\n흥행 수익: 약 8억 56백만 달러\\n장르: 애니메이션, 코미디, 가족\\n줄거리: 소녀 라일리의 머릿속에 있는 감정들이 모험을 통해 성장하고 변화하는 과정을 그린 애니메이션 영화입니다. 감정들을 통해 우리가 어떻게 감정을 다루고 이해하는지를 다룹니다.')"
      ]
     },
     "execution_count": 2,
     "metadata": {},
     "output_type": "execute_result"
    }
   ],
   "source": [
    "from langchain.chat_models import ChatOpenAI\n",
    "from langchain.prompts.few_shot import FewShotPromptTemplate\n",
    "from langchain.callbacks import StreamingStdOutCallbackHandler\n",
    "from langchain.prompts import PromptTemplate\n",
    "\n",
    "\n",
    "chat = ChatOpenAI(\n",
    "    temperature=0.1,\n",
    "    streaming=True,\n",
    "    callbacks=[\n",
    "        StreamingStdOutCallbackHandler(),\n",
    "    ],\n",
    ")\n",
    "\n",
    "examples = [\n",
    "    {\n",
    "        \"input\": \"영화 범죄도시3 어때?\",\n",
    "        \"output\": \"영화 범죄도시3에 대한 정보는 다음과 같습니다\\n감독: 이상용\\n주요 출연진: 마동석, 이준혁, 아오키 무네타카\\n예산: 약 130억 원\\n흥행 수익: 약 1,050억 원 (약 8,030만 달러)\\n장르: 액션, 범죄, 스릴러\\n줄거리: 마석도 형사가 새로운 범죄 조직과 맞서 싸우며 벌어지는 액션 영화로, 전작들에 이어 강렬한 액션과 유머가 특징입니다​\",\n",
    "    },\n",
    "    {\n",
    "        \"input\": \"영화 밀수 정보 알려줘\",\n",
    "        \"output\": \"감독: 류승완\\n주요 출연진: 김혜수, 염정아, 조인성\\n예산: 약 140억 원\\n흥행 수익: 약 497억 원 (약 3,810만 달러)\\n장르: 액션, 코미디, 범죄\\n줄거리: 1970년대 작은 바닷가 마을에서 밀수를 통해 생계를 이어가는 여성 다이버들의 이야기를 그린 영화입니다​(\",\n",
    "    },\n",
    "    {\n",
    "        \"input\": \"영화 콘크리트 유토피아 어때?\",\n",
    "        \"output\": \"감독: 엄태화\\n주요 출연진: 이병헌, 박서준, 박보영\\n예산: 약 130억 원\\n흥행 수익: 약 374억 원 (약 2,870만 달러)\\n장르: 드라마, 스릴러, SF\\n줄거리: 대지진으로 폐허가 된 서울에서 유일하게 남은 아파트 주민들이 외부인들과 생존을 위해 싸우는 이야기를 다룬 영화입니다​\",\n",
    "    },\n",
    "    {\n",
    "        \"input\": \"영화 엘리멘탈 어때?\",\n",
    "        \"output\": \"감독: 피터 손\\n주요 출연진: 리아 루이스, 마무두 아티\\n예산: 약 2억 달러\\n흥행 수익: 약 7,110억 원 (약 5억 4,500만 달러)\\n장르: 애니메이션, 판타지, 가족\\n줄거리: 불, 물, 공기, 흙의 요소들이 함께 사는 세계에서 각기 다른 요소의 두 주인공이 서로를 이해하고 받아들이며 성장하는 이야기를 그린 애니메이션 영화입니다​\",\n",
    "    },\n",
    "    {\n",
    "        \"input\": \"영화 스즈메의 문단속 어때?\",\n",
    "        \"output\": \"감독: 신카이 마코토\\n주요 출연진: 하라 나노카, 마츠모토 호쿠토\\n예산: 약 140억 원\\n흥행 수익: 약 571억 원 (약 4,380만 달러)\\n장르: 애니메이션, 판타지, 모험\\n줄거리: 일본의 시골 마을에서 도쿄로 이어지는 미지의 문을 닫아 재앙을 막으려는 소녀의 모험을 그린 영화입니다\",\n",
    "    },\n",
    "]\n",
    "\n",
    "\n",
    "movie_prompt = PromptTemplate.from_template(\"Human: {input}\\nAI: {output}\\n\")\n",
    "\n",
    "prompt = FewShotPromptTemplate(\n",
    "    example_prompt=movie_prompt,\n",
    "    examples=examples,\n",
    "    suffix=\"Human: 영화 {movie}에 대한 상세한 정보를 알려줘\",\n",
    "    input_variables=[\"movie\"],\n",
    ")\n",
    "\n",
    "chain = prompt | chat\n",
    "\n",
    "chain.invoke({\"movie\": \"인사이드아웃\"})\n"
   ]
  }
 ],
 "metadata": {
  "kernelspec": {
   "display_name": "env",
   "language": "python",
   "name": "python3"
  },
  "language_info": {
   "codemirror_mode": {
    "name": "ipython",
    "version": 3
   },
   "file_extension": ".py",
   "mimetype": "text/x-python",
   "name": "python",
   "nbconvert_exporter": "python",
   "pygments_lexer": "ipython3",
   "version": "3.11.9"
  },
  "orig_nbformat": 4
 },
 "nbformat": 4,
 "nbformat_minor": 2
}
