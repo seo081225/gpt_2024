{
 "cells": [
  {
   "cell_type": "code",
   "execution_count": 12,
   "metadata": {},
   "outputs": [
    {
     "name": "stdout",
     "output_type": "stream",
     "text": [
      "영화 제목: 아메리칸 쉐프, 이모지 요약: 🇺🇸👨🏻‍🍳🍔\n",
      "영화 제목: 주토피아, 이모지 요약: 🐭🌆👮‍♂️\n",
      "영화 제목: 명량, 이모지 요약: ⛵🌊💥\n"
     ]
    }
   ],
   "source": [
    "from langchain.memory import ConversationSummaryBufferMemory\n",
    "from langchain.chat_models import ChatOpenAI\n",
    "from langchain.schema.runnable import RunnablePassthrough\n",
    "from langchain.prompts import ChatPromptTemplate, MessagesPlaceholder\n",
    "from langchain.prompts.few_shot import FewShotChatMessagePromptTemplate\n",
    "\n",
    "llm = ChatOpenAI(temperature=0.1)\n",
    "\n",
    "memory = ConversationSummaryBufferMemory(\n",
    "    llm=llm,\n",
    "    max_token_limit=100,\n",
    "    return_messages=True,\n",
    ")\n",
    "\n",
    "examples = [\n",
    "    {\"input\": \"엘리멘탈\", \"output\": \"🔥💧👨‍👨‍👦\"},\n",
    "    {\"input\": \"겨울왕국\", \"output\": \"🥶👑⛄️\"},\n",
    "    {\"input\": \"오페라의 유령\", \"output\": \"🎭👻🎤\"},\n",
    "    {\"input\": \"라따뚜이\", \"output\": \"🐭👨🏻‍🍳🍲\"},\n",
    "    {\"input\": \"탑건\", \"output\": \"🛩️👨‍✈️🔥\"},\n",
    "    {\"input\": \"대부\", \"output\": \"👨‍👨‍👦🔫🍝\"},\n",
    "]\n",
    "\n",
    "example_prompt = ChatPromptTemplate.from_messages(\n",
    "    [\n",
    "        (\"human\", \"영화 제목: {input}\"),\n",
    "        (\"ai\", \"영화 제목: {input}, 이모지 요약: {output}\"),\n",
    "    ]\n",
    ")\n",
    "\n",
    "example_prompt = FewShotChatMessagePromptTemplate(\n",
    "    example_prompt=example_prompt,\n",
    "    examples=examples,\n",
    ")\n",
    "\n",
    "prompt = ChatPromptTemplate.from_messages(\n",
    "    [\n",
    "        (\n",
    "            \"system\",\n",
    "            \"당신은 영화 제목을 입력받으면, 그 영화의 줄거리를 상징하는 이모지 3개로 요약해주십시오. 가능한 한 정확하고 상징적인 이모지를 선택해야 합니다.\",\n",
    "        ),\n",
    "        MessagesPlaceholder(variable_name=\"history\"),\n",
    "        example_prompt,\n",
    "        (\"human\", \"영화 제목: {input}\"),\n",
    "    ]\n",
    ")\n",
    "\n",
    "\n",
    "def load_memory(_):\n",
    "    return memory.load_memory_variables({})[\"history\"]\n",
    "\n",
    "\n",
    "chain = RunnablePassthrough.assign(history=load_memory) | prompt | llm\n",
    "\n",
    "\n",
    "def invoke_chain(input):\n",
    "    result = chain.invoke({\"input\": input})\n",
    "    memory.save_context(\n",
    "        {\"input\": input},\n",
    "        {\"output\": result.content},\n",
    "    )\n",
    "    print(result.content)\n",
    "\n",
    "\n",
    "invoke_chain(\"아메리칸 쉐프\")\n",
    "invoke_chain(\"주토피아\")\n",
    "invoke_chain(\"명량\")\n"
   ]
  }
 ],
 "metadata": {
  "kernelspec": {
   "display_name": "env",
   "language": "python",
   "name": "python3"
  },
  "language_info": {
   "codemirror_mode": {
    "name": "ipython",
    "version": 3
   },
   "file_extension": ".py",
   "mimetype": "text/x-python",
   "name": "python",
   "nbconvert_exporter": "python",
   "pygments_lexer": "ipython3",
   "version": "3.11.9"
  },
  "orig_nbformat": 4
 },
 "nbformat": 4,
 "nbformat_minor": 2
}
