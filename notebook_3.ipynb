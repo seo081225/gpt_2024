{
 "cells": [
  {
   "cell_type": "code",
   "execution_count": 18,
   "metadata": {},
   "outputs": [
    {
     "name": "stdout",
     "output_type": "stream",
     "text": [
      "주어진 문서에서는 Aaronson에 대한 직접적인 언급이 없기 때문에 그의 유죄 여부에 대한 정보를 제공할 수 없습니다. Aaronson이 누구인지, 어떤 사건과 관련이 있는지에 대한 추가적인 정보가 필요합니다.\n"
     ]
    }
   ],
   "source": [
    "from langchain.chat_models import ChatOpenAI\n",
    "from langchain.document_loaders import UnstructuredFileLoader\n",
    "from langchain.text_splitter import CharacterTextSplitter\n",
    "from langchain.memory import ConversationBufferMemory\n",
    "from langchain.embeddings import OpenAIEmbeddings, CacheBackedEmbeddings\n",
    "from langchain.vectorstores import FAISS\n",
    "from langchain.storage import LocalFileStore\n",
    "from langchain.prompts import ChatPromptTemplate\n",
    "from langchain.schema.runnable import RunnablePassthrough\n",
    "\n",
    "llm = ChatOpenAI(\n",
    "    model=\"gpt-4o-mini\",\n",
    "    temperature=0.1,\n",
    ")\n",
    "\n",
    "cache_dir = LocalFileStore(\"./.cache/\")\n",
    "\n",
    "splitter = CharacterTextSplitter.from_tiktoken_encoder(\n",
    "    separator=\"\\n\",\n",
    "    chunk_size=600,\n",
    "    chunk_overlap=100,\n",
    ")\n",
    "\n",
    "memory = ConversationBufferMemory(\n",
    "    memory_key=\"chat_history\", return_messages=True\n",
    ")\n",
    "\n",
    "loader = UnstructuredFileLoader(\"./document.txt\")\n",
    "\n",
    "docs = loader.load_and_split(text_splitter=splitter)\n",
    "\n",
    "embeddings = OpenAIEmbeddings()\n",
    "cached_embeddings = CacheBackedEmbeddings.from_bytes_store(\n",
    "    embeddings, cache_dir\n",
    ")\n",
    "\n",
    "vectorstore = FAISS.from_documents(docs, cached_embeddings)\n",
    "\n",
    "retriever = vectorstore.as_retriever()\n",
    "\n",
    "prompt_template = ChatPromptTemplate.from_messages(\n",
    "    [\n",
    "        (\n",
    "            \"system\",\n",
    "            \"당신은 주어진 문서를 읽고 해석합니다. 주어진 문서를 사용하여 질문에 상세하게 대답하십시오. 답을 모르면 지어내지 말고 모른다고 대답하십시오.\\n\\n{context}\",\n",
    "        ),\n",
    "        (\"human\", \"{question}\"),\n",
    "    ]\n",
    ")\n",
    "\n",
    "\n",
    "def load_memory():\n",
    "    return memory.load_memory_variables({}).get(\"chat_history\", \"\")\n",
    "\n",
    "\n",
    "def invoke_chain(question):\n",
    "    chat_history = memory.load_memory_variables({}).get(\"chat_history\", \"\")\n",
    "\n",
    "    relevant_docs = retriever.get_relevant_documents(question)\n",
    "    context = \"\\n\\n\".join([doc.page_content for doc in relevant_docs])\n",
    "\n",
    "    inputs = {\n",
    "        \"context\": context,\n",
    "        \"question\": question,\n",
    "        \"chat_history\": chat_history,\n",
    "    }\n",
    "\n",
    "    prompt = prompt_template.format_messages(**inputs)\n",
    "    response = llm(prompt)\n",
    "\n",
    "    memory.save_context({\"question\": question}, {\"answer\": response.content})\n",
    "\n",
    "    return print(response.content)\n",
    "\n",
    "\n",
    "invoke_chain(\"Aaronson 은 유죄인가요?\")\n"
   ]
  },
  {
   "cell_type": "code",
   "execution_count": 19,
   "metadata": {},
   "outputs": [
    {
     "name": "stdout",
     "output_type": "stream",
     "text": [
      "그는 테이블에 다음과 같은 메시지를 썼습니다:\n",
      "\n",
      "1. FREEDOM IS SLAVERY\n",
      "2. TWO AND TWO MAKE FIVE\n",
      "3. GOD IS POWER\n",
      "\n",
      "이 메시지들은 그의 생각을 나타내며, 그는 이러한 문구들을 쓰면서 자신의 사고를 재교육하려고 했습니다.\n"
     ]
    }
   ],
   "source": [
    "invoke_chain(\"그가 테이블에 어떤 메시지를 썼나요?\")\n"
   ]
  },
  {
   "cell_type": "code",
   "execution_count": 20,
   "metadata": {},
   "outputs": [
    {
     "name": "stdout",
     "output_type": "stream",
     "text": [
      "Julia는 조지 오웰의 소설 \"1984\"에서 주인공인 윈스턴 스미스의 연인입니다. 그녀는 당의 억압적인 체제에 반대하는 감정과 행동을 가지고 있으며, 윈스턴과 함께 금지된 사랑을 나누고 반체제적인 생각을 공유합니다. 그러나 소설의 진행 과정에서 그들의 관계는 당의 감시와 억압에 의해 위협받고, 결국 그들은 서로에게 배신하게 됩니다. Julia는 윈스턴에게 중요한 인물로, 그들의 사랑은 자유와 개인의 감정을 상징하는 요소로 작용합니다.\n"
     ]
    }
   ],
   "source": [
    "invoke_chain(\"Julia는 누구인가요?\")\n"
   ]
  }
 ],
 "metadata": {
  "kernelspec": {
   "display_name": "env",
   "language": "python",
   "name": "python3"
  },
  "language_info": {
   "codemirror_mode": {
    "name": "ipython",
    "version": 3
   },
   "file_extension": ".py",
   "mimetype": "text/x-python",
   "name": "python",
   "nbconvert_exporter": "python",
   "pygments_lexer": "ipython3",
   "version": "3.11.9"
  },
  "orig_nbformat": 4
 },
 "nbformat": 4,
 "nbformat_minor": 2
}
