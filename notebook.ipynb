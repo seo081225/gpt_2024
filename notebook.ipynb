{
 "cells": [
  {
   "cell_type": "code",
   "execution_count": 15,
   "metadata": {},
   "outputs": [],
   "source": [
    "from langchain.chat_models import ChatOpenAI\n",
    "from langchain.prompts import ChatPromptTemplate\n",
    "from langchain.callbacks import StreamingStdOutCallbackHandler\n",
    "\n",
    "chat = ChatOpenAI(\n",
    "    model_name=\"gpt-3.5-turbo\",\n",
    "    temperature=0.1,\n",
    "    streaming=True,\n",
    "    callbacks=[StreamingStdOutCallbackHandler()],\n",
    ")\n",
    "\n",
    "poem_prompt = ChatPromptTemplate.from_messages(\n",
    "    [\n",
    "        (\n",
    "            \"system\",\n",
    "            \"당신은 여러 프로그래밍 언어를 배운 시니어 개발자입니다. 당신은 특정 프로그래밍 언어의 특징을 은유적으로 표현하는 현대시를 씁니다.\"\n",
    "            \"시의 내용에서 프로그래밍 언어의 이름을 절대 언급하지 말고, 오직 그 언어의 특징과 느낌을 은유적으로 표현해 주십시오.\",\n",
    "        ),\n",
    "        (\"human\", \"{programming_language}와 관련있는 시를 작성해줘.\"),\n",
    "    ]\n",
    ")\n",
    "\n",
    "poem_chain = poem_prompt | chat\n"
   ]
  },
  {
   "cell_type": "code",
   "execution_count": 16,
   "metadata": {},
   "outputs": [
    {
     "name": "stdout",
     "output_type": "stream",
     "text": [
      "코드를 쓰듯 자유롭게 흘러가는\n",
      "단순한 문법 속에 깊이 갇힌\n",
      "간결함과 힘을 지니고 있는\n",
      "그 언어는 마치 맑은 물 같다\n",
      "\n",
      "들어가기 쉽고 익숙한 문법 속에\n",
      "무한한 가능성을 품고 있는\n",
      "그 언어는 마치 숲 속의 작은 샘물처럼\n",
      "\n",
      "한 줄 한 줄 읽어가면서\n",
      "마치 이야기를 듣는 듯한\n",
      "그 언어는 마치 친구와 대화하는 듯하다\n",
      "\n",
      "간결함과 아름다움을 지니고 있는\n",
      "그 언어는 마치 예술 작품처럼 아름답다주어진 시는 프로그래밍 언어에 대한 비유를 통해 표현된 시입니다. 시인은 프로그래밍 언어의 단순한 문법 속에 깊이 갇힌 간결함과 힘을 비유적으로 표현하며, 그 언어가 마치 맑은 물처럼 들어가기 쉽고 익숙한 문법 속에 무한한 가능성을 품고 있다고 묘사합니다. 또한, 프로그래밍 언어를 한 줄 한 줄 읽어가면서 이야기를 듣는 듯한 경험으로 표현하며, 그 언어가 마치 친구와 대화하는 듯한 느낌을 주며 간결함과 아름다움을 지니고 있다고 설명합니다. 이 시는 프로그래밍 언어의 아름다움과 예술성을 감상하고자 하는 시인의 감정을 담고 있습니다."
     ]
    },
    {
     "data": {
      "text/plain": [
       "AIMessageChunk(content='주어진 시는 프로그래밍 언어에 대한 비유를 통해 표현된 시입니다. 시인은 프로그래밍 언어의 단순한 문법 속에 깊이 갇힌 간결함과 힘을 비유적으로 표현하며, 그 언어가 마치 맑은 물처럼 들어가기 쉽고 익숙한 문법 속에 무한한 가능성을 품고 있다고 묘사합니다. 또한, 프로그래밍 언어를 한 줄 한 줄 읽어가면서 이야기를 듣는 듯한 경험으로 표현하며, 그 언어가 마치 친구와 대화하는 듯한 느낌을 주며 간결함과 아름다움을 지니고 있다고 설명합니다. 이 시는 프로그래밍 언어의 아름다움과 예술성을 감상하고자 하는 시인의 감정을 담고 있습니다.')"
      ]
     },
     "execution_count": 16,
     "metadata": {},
     "output_type": "execute_result"
    }
   ],
   "source": [
    "explain_poem_prompt = ChatPromptTemplate.from_messages(\n",
    "    [\n",
    "        (\n",
    "            \"system\",\n",
    "            \"당신은 현대시를 해설하는 전문가입니다. 주어진 시를 이해하기 쉽고 간결하게 설명해주십시오.\",\n",
    "        ),\n",
    "        (\"human\", \"{poem}\"),\n",
    "    ]\n",
    ")\n",
    "\n",
    "explain_poem_chain = explain_poem_prompt | chat\n",
    "\n",
    "final_chian = {\"poem\": poem_chain} | explain_poem_chain\n",
    "final_chian.invoke({\"programming_language\": \"python\"})\n"
   ]
  }
 ],
 "metadata": {
  "kernelspec": {
   "display_name": "env",
   "language": "python",
   "name": "python3"
  },
  "language_info": {
   "codemirror_mode": {
    "name": "ipython",
    "version": 3
   },
   "file_extension": ".py",
   "mimetype": "text/x-python",
   "name": "python",
   "nbconvert_exporter": "python",
   "pygments_lexer": "ipython3",
   "version": "3.11.9"
  },
  "orig_nbformat": 4
 },
 "nbformat": 4,
 "nbformat_minor": 2
}
